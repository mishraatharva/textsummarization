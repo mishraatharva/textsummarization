{
 "cells": [
  {
   "cell_type": "code",
   "execution_count": 1,
   "metadata": {},
   "outputs": [
    {
     "name": "stderr",
     "output_type": "stream",
     "text": [
      "c:\\Users\\Naruto\\Desktop\\generative_ai\\generative_ai_material\\project\\text_summarization\\tsvenv\\lib\\site-packages\\tqdm\\auto.py:21: TqdmWarning: IProgress not found. Please update jupyter and ipywidgets. See https://ipywidgets.readthedocs.io/en/stable/user_install.html\n",
      "  from .autonotebook import tqdm as notebook_tqdm\n",
      "Downloading readme: 100%|██████████| 4.36k/4.36k [00:00<00:00, 7.32kB/s]\n",
      "Downloading data: 100%|██████████| 9.26M/9.26M [00:03<00:00, 2.80MB/s]\n",
      "Downloading data: 100%|██████████| 504k/504k [00:00<00:00, 594kB/s]\n",
      "Downloading data: 100%|██████████| 522k/522k [00:00<00:00, 571kB/s]\n",
      "Generating train split: 100%|██████████| 14732/14732 [00:00<00:00, 100961.71 examples/s]\n",
      "Generating validation split: 100%|██████████| 818/818 [00:00<00:00, 59168.43 examples/s]\n",
      "Generating test split: 100%|██████████| 819/819 [00:00<00:00, 58502.25 examples/s]\n"
     ]
    },
    {
     "data": {
      "text/plain": [
       "DatasetDict({\n",
       "    train: Dataset({\n",
       "        features: ['id', 'dialogue', 'summary'],\n",
       "        num_rows: 14732\n",
       "    })\n",
       "    validation: Dataset({\n",
       "        features: ['id', 'dialogue', 'summary'],\n",
       "        num_rows: 818\n",
       "    })\n",
       "    test: Dataset({\n",
       "        features: ['id', 'dialogue', 'summary'],\n",
       "        num_rows: 819\n",
       "    })\n",
       "})"
      ]
     },
     "execution_count": 1,
     "metadata": {},
     "output_type": "execute_result"
    }
   ],
   "source": [
    "from datasets import load_dataset\n",
    "dataset = load_dataset(\"knkarthick/samsum\")\n",
    "dataset"
   ]
  },
  {
   "cell_type": "code",
   "execution_count": 2,
   "metadata": {},
   "outputs": [
    {
     "data": {
      "text/plain": [
       "{'id': ['13818513'],\n",
       " 'dialogue': [\"Amanda: I baked  cookies. Do you want some?\\nJerry: Sure!\\nAmanda: I'll bring you tomorrow :-)\"],\n",
       " 'summary': ['Amanda baked cookies and will bring Jerry some tomorrow.']}"
      ]
     },
     "execution_count": 2,
     "metadata": {},
     "output_type": "execute_result"
    }
   ],
   "source": [
    "dataset[\"train\"][:1]"
   ]
  },
  {
   "cell_type": "code",
   "execution_count": 3,
   "metadata": {},
   "outputs": [],
   "source": [
    "# CONVERT DATA TO CSV_FILE\n",
    "from io import StringIO\n",
    "import csv\n",
    "def dataset_to_csv(datasplit):\n",
    "    csv_stream = StringIO()\n",
    "    writer = csv.DictWriter(csv_stream,fieldnames=datasplit.features.keys())\n",
    "    writer.writeheader()\n",
    "    for row in datasplit:\n",
    "        writer.writerow(row)\n",
    "    csv_stream.seek(0)\n",
    "    return csv_stream\n"
   ]
  },
  {
   "cell_type": "code",
   "execution_count": 4,
   "metadata": {},
   "outputs": [],
   "source": [
    "# GETTING DATA IN CSV_FORMAT\n",
    "train_csv = dataset_to_csv(dataset[\"train\"])\n",
    "test_csv = dataset_to_csv(dataset[\"test\"])\n",
    "validation_csv = dataset_to_csv(dataset[\"validation\"])"
   ]
  },
  {
   "cell_type": "code",
   "execution_count": 5,
   "metadata": {},
   "outputs": [],
   "source": [
    "# CREATE FOLDER WITH NAME \"samsum_dataset.zip\" AND STORE ALL ZIP_FILE's IN IT.\n",
    "import zipfile\n",
    "zip_file_path = \"samsum_dataset.zip\"\n",
    "with zipfile.ZipFile(zip_file_path, \"w\", zipfile.ZIP_DEFLATED) as zipf:\n",
    "    zipf.writestr(\"train.csv\", train_csv.getvalue())\n",
    "    zipf.writestr(\"test.csv\", test_csv.getvalue())\n",
    "    zipf.writestr(\"validation.csv\", validation_csv.getvalue())"
   ]
  },
  {
   "cell_type": "code",
   "execution_count": null,
   "metadata": {},
   "outputs": [],
   "source": []
  }
 ],
 "metadata": {
  "kernelspec": {
   "display_name": "Python 3",
   "language": "python",
   "name": "python3"
  },
  "language_info": {
   "codemirror_mode": {
    "name": "ipython",
    "version": 3
   },
   "file_extension": ".py",
   "mimetype": "text/x-python",
   "name": "python",
   "nbconvert_exporter": "python",
   "pygments_lexer": "ipython3",
   "version": "3.8.19"
  }
 },
 "nbformat": 4,
 "nbformat_minor": 2
}
